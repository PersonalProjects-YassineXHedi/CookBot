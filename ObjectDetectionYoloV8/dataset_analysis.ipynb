{
 "cells": [
  {
   "cell_type": "code",
   "execution_count": 1,
   "id": "400b6b48-fecc-488e-9b2e-adb5db77ba83",
   "metadata": {},
   "outputs": [],
   "source": [
    "%load_ext autoreload\n",
    "%autoreload 2\n",
    "\n",
    "%run dataset_preparation.py"
   ]
  },
  {
   "cell_type": "code",
   "execution_count": 2,
   "id": "fab9e84e-1b8d-41ed-a10c-52b18ec977d4",
   "metadata": {},
   "outputs": [
    {
     "data": {
      "text/plain": [
       "{'bell pepper': 475,\n",
       " 'onion': 339,\n",
       " 'chicken': 275,\n",
       " 'tomato': 274,\n",
       " 'soy sauce': 267,\n",
       " 'carrot': 256,\n",
       " 'olive': 225,\n",
       " 'parsley': 218,\n",
       " 'lemon': 209,\n",
       " 'potato': 207,\n",
       " 'garlic': 203,\n",
       " 'cilantro': 194,\n",
       " 'oil': 188,\n",
       " 'sour cream': 138,\n",
       " 'orange': 137,\n",
       " 'mayonnaise': 136,\n",
       " 'cucumber': 129,\n",
       " 'sesame oil': 97,\n",
       " 'celery': 89,\n",
       " 'vinegar': 88,\n",
       " 'lettuce': 73,\n",
       " 'beans': 62,\n",
       " 'honey': 57,\n",
       " 'bacon': 50,\n",
       " 'mustard': 48,\n",
       " 'basil': 2,\n",
       " 'banana': 1,\n",
       " 'cabbage': 1}"
      ]
     },
     "execution_count": 2,
     "metadata": {},
     "output_type": "execute_result"
    }
   ],
   "source": [
    "get_classes_and_count()"
   ]
  },
  {
   "cell_type": "code",
   "execution_count": null,
   "id": "b8398a9f-2dcf-4542-b203-026e45165daf",
   "metadata": {},
   "outputs": [],
   "source": []
  }
 ],
 "metadata": {
  "kernelspec": {
   "display_name": "Python 3 (ipykernel)",
   "language": "python",
   "name": "python3"
  },
  "language_info": {
   "codemirror_mode": {
    "name": "ipython",
    "version": 3
   },
   "file_extension": ".py",
   "mimetype": "text/x-python",
   "name": "python",
   "nbconvert_exporter": "python",
   "pygments_lexer": "ipython3",
   "version": "3.11.11"
  }
 },
 "nbformat": 4,
 "nbformat_minor": 5
}
